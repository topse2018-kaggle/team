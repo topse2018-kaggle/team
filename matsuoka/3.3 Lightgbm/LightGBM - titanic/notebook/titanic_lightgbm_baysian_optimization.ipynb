{
 "cells": [
  {
   "cell_type": "markdown",
   "metadata": {},
   "source": [
    "https://www.kaggle.com/sz8416/simple-bayesian-optimization-for-lightgbm を参照"
   ]
  },
  {
   "cell_type": "code",
   "execution_count": 1,
   "metadata": {},
   "outputs": [],
   "source": [
    "import pandas as pd\n",
    "import numpy as np\n",
    "import warnings\n",
    "import time\n",
    "warnings.filterwarnings(\"ignore\")\n",
    "import lightgbm as lgb\n",
    "from bayes_opt import BayesianOptimization\n",
    "from sklearn.metrics import roc_auc_score"
   ]
  },
  {
   "cell_type": "markdown",
   "metadata": {},
   "source": [
    "訓練データを読み込み"
   ]
  },
  {
   "cell_type": "code",
   "execution_count": 2,
   "metadata": {},
   "outputs": [],
   "source": [
    "application_train = pd.read_csv('../input/train.csv')"
   ]
  },
  {
   "cell_type": "markdown",
   "metadata": {},
   "source": [
    "不要な列を削除"
   ]
  },
  {
   "cell_type": "code",
   "execution_count": 3,
   "metadata": {},
   "outputs": [],
   "source": [
    "drop_column = [\"PassengerId\",\"Survived\",\"Name\",\"Cabin\",\"Ticket\",\"Embarked\"]\n",
    "X = application_train.drop(drop_column, axis=1)\n",
    "X['Pclass'] = X['Pclass'].astype(np.int64)"
   ]
  },
  {
   "cell_type": "markdown",
   "metadata": {},
   "source": [
    "カテゴリ変数をOne-hot表現に変換"
   ]
  },
  {
   "cell_type": "code",
   "execution_count": 4,
   "metadata": {},
   "outputs": [],
   "source": [
    "X = pd.get_dummies(X)"
   ]
  },
  {
   "cell_type": "code",
   "execution_count": 5,
   "metadata": {},
   "outputs": [],
   "source": [
    "y = application_train.Survived"
   ]
  },
  {
   "cell_type": "code",
   "execution_count": 6,
   "metadata": {},
   "outputs": [
    {
     "data": {
      "text/html": [
       "<div>\n",
       "<style scoped>\n",
       "    .dataframe tbody tr th:only-of-type {\n",
       "        vertical-align: middle;\n",
       "    }\n",
       "\n",
       "    .dataframe tbody tr th {\n",
       "        vertical-align: top;\n",
       "    }\n",
       "\n",
       "    .dataframe thead th {\n",
       "        text-align: right;\n",
       "    }\n",
       "</style>\n",
       "<table border=\"1\" class=\"dataframe\">\n",
       "  <thead>\n",
       "    <tr style=\"text-align: right;\">\n",
       "      <th></th>\n",
       "      <th>Pclass</th>\n",
       "      <th>Age</th>\n",
       "      <th>SibSp</th>\n",
       "      <th>Parch</th>\n",
       "      <th>Fare</th>\n",
       "      <th>Sex_female</th>\n",
       "      <th>Sex_male</th>\n",
       "    </tr>\n",
       "  </thead>\n",
       "  <tbody>\n",
       "    <tr>\n",
       "      <th>0</th>\n",
       "      <td>3</td>\n",
       "      <td>22.0</td>\n",
       "      <td>1</td>\n",
       "      <td>0</td>\n",
       "      <td>7.2500</td>\n",
       "      <td>0</td>\n",
       "      <td>1</td>\n",
       "    </tr>\n",
       "    <tr>\n",
       "      <th>1</th>\n",
       "      <td>1</td>\n",
       "      <td>38.0</td>\n",
       "      <td>1</td>\n",
       "      <td>0</td>\n",
       "      <td>71.2833</td>\n",
       "      <td>1</td>\n",
       "      <td>0</td>\n",
       "    </tr>\n",
       "    <tr>\n",
       "      <th>2</th>\n",
       "      <td>3</td>\n",
       "      <td>26.0</td>\n",
       "      <td>0</td>\n",
       "      <td>0</td>\n",
       "      <td>7.9250</td>\n",
       "      <td>1</td>\n",
       "      <td>0</td>\n",
       "    </tr>\n",
       "    <tr>\n",
       "      <th>3</th>\n",
       "      <td>1</td>\n",
       "      <td>35.0</td>\n",
       "      <td>1</td>\n",
       "      <td>0</td>\n",
       "      <td>53.1000</td>\n",
       "      <td>1</td>\n",
       "      <td>0</td>\n",
       "    </tr>\n",
       "    <tr>\n",
       "      <th>4</th>\n",
       "      <td>3</td>\n",
       "      <td>35.0</td>\n",
       "      <td>0</td>\n",
       "      <td>0</td>\n",
       "      <td>8.0500</td>\n",
       "      <td>0</td>\n",
       "      <td>1</td>\n",
       "    </tr>\n",
       "  </tbody>\n",
       "</table>\n",
       "</div>"
      ],
      "text/plain": [
       "   Pclass   Age  SibSp  Parch     Fare  Sex_female  Sex_male\n",
       "0       3  22.0      1      0   7.2500           0         1\n",
       "1       1  38.0      1      0  71.2833           1         0\n",
       "2       3  26.0      0      0   7.9250           1         0\n",
       "3       1  35.0      1      0  53.1000           1         0\n",
       "4       3  35.0      0      0   8.0500           0         1"
      ]
     },
     "execution_count": 6,
     "metadata": {},
     "output_type": "execute_result"
    }
   ],
   "source": [
    "X.head()"
   ]
  },
  {
   "cell_type": "code",
   "execution_count": 7,
   "metadata": {},
   "outputs": [
    {
     "data": {
      "text/plain": [
       "Pclass          int64\n",
       "Age           float64\n",
       "SibSp           int64\n",
       "Parch           int64\n",
       "Fare          float64\n",
       "Sex_female      uint8\n",
       "Sex_male        uint8\n",
       "dtype: object"
      ]
     },
     "execution_count": 7,
     "metadata": {},
     "output_type": "execute_result"
    }
   ],
   "source": [
    "X.dtypes"
   ]
  },
  {
   "cell_type": "code",
   "execution_count": 8,
   "metadata": {},
   "outputs": [],
   "source": [
    "categorical_feats = X.columns[X.dtypes == 'object']"
   ]
  },
  {
   "cell_type": "markdown",
   "metadata": {},
   "source": [
    "チューニングするパラメータ"
   ]
  },
  {
   "cell_type": "code",
   "execution_count": 9,
   "metadata": {},
   "outputs": [],
   "source": [
    "def lgb_eval(num_leaves, feature_fraction, bagging_fraction, max_depth, lambda_l1, lambda_l2, min_split_gain, min_child_weight):\n",
    "    params = {'application':'binary','num_iterations':4000, 'learning_rate':0.2, 'early_stopping_round':100, 'metric':'auc'}\n",
    "    params[\"num_leaves\"] = round(num_leaves)\n",
    "    params['feature_fraction'] = max(min(feature_fraction, 1), 0)\n",
    "    params['bagging_fraction'] = max(min(bagging_fraction, 1), 0)\n",
    "    params['max_depth'] = round(max_depth)\n",
    "    params['lambda_l1'] = max(lambda_l1, 0)\n",
    "    params['lambda_l2'] = max(lambda_l2, 0)\n",
    "    params['min_split_gain'] = min_split_gain\n",
    "    params['min_child_weight'] = min_child_weight\n",
    "    cv_result = lgb.cv(params, train_data, nfold=n_folds, seed=random_seed, stratified=True, verbose_eval =200, metrics=['auc'])\n",
    "    return max(cv_result['auc-mean'])"
   ]
  },
  {
   "cell_type": "markdown",
   "metadata": {},
   "source": [
    "各パラメータの探索範囲を設定"
   ]
  },
  {
   "cell_type": "code",
   "execution_count": 10,
   "metadata": {},
   "outputs": [],
   "source": [
    "lgbBO = BayesianOptimization(lgb_eval, {'num_leaves': (5, 45),\n",
    "                                        'feature_fraction': (0.1, 0.9),\n",
    "                                        'bagging_fraction': (0.2, 1),\n",
    "                                        'max_depth': (3, 9),\n",
    "                                        'lambda_l1': (0, 5),\n",
    "                                        'lambda_l2': (0, 3),\n",
    "                                        'min_split_gain': (0.001, 0.1),\n",
    "                                        'min_child_weight': (5, 50)}, random_state=0)"
   ]
  },
  {
   "cell_type": "markdown",
   "metadata": {},
   "source": [
    "最大化されるパラメータを探す\n",
    "\n",
    "最適値を返そうとするところでエラーになる"
   ]
  },
  {
   "cell_type": "code",
   "execution_count": 11,
   "metadata": {},
   "outputs": [
    {
     "name": "stdout",
     "output_type": "stream",
     "text": [
      "|   iter    |  target   | baggin... | featur... | lambda_l1 | lambda_l2 | max_depth | min_ch... | min_sp... | num_le... |\n",
      "-------------------------------------------------------------------------------------------------------------------------\n",
      "| \u001b[0m 1       \u001b[0m | \u001b[0m 0.8434  \u001b[0m | \u001b[0m 0.7744  \u001b[0m | \u001b[0m 0.6722  \u001b[0m | \u001b[0m 3.014   \u001b[0m | \u001b[0m 1.635   \u001b[0m | \u001b[0m 3.695   \u001b[0m | \u001b[0m 34.07   \u001b[0m | \u001b[0m 0.04432 \u001b[0m | \u001b[0m 18.05   \u001b[0m |\n",
      "| \u001b[0m 2       \u001b[0m | \u001b[0m 0.8402  \u001b[0m | \u001b[0m 0.9818  \u001b[0m | \u001b[0m 0.4068  \u001b[0m | \u001b[0m 3.959   \u001b[0m | \u001b[0m 1.587   \u001b[0m | \u001b[0m 4.272   \u001b[0m | \u001b[0m 46.65   \u001b[0m | \u001b[0m 0.008033\u001b[0m | \u001b[0m 3.568   \u001b[0m |\n",
      "| \u001b[0m 3       \u001b[0m | \u001b[0m 0.8396  \u001b[0m | \u001b[0m 0.5101  \u001b[0m | \u001b[0m 0.7661  \u001b[0m | \u001b[0m 3.891   \u001b[0m | \u001b[0m 2.61    \u001b[0m | \u001b[0m 5.914   \u001b[0m | \u001b[0m 40.96   \u001b[0m | \u001b[0m 0.04669 \u001b[0m | \u001b[0m 16.05   \u001b[0m |\n",
      "[200]\tcv_agg's auc: 0.83605 + 0.0335219\n",
      "| \u001b[0m 4       \u001b[0m | \u001b[0m 0.8363  \u001b[0m | \u001b[0m 0.5591  \u001b[0m | \u001b[0m 0.6119  \u001b[0m | \u001b[0m 0.7168  \u001b[0m | \u001b[0m 2.834   \u001b[0m | \u001b[0m 4.087   \u001b[0m | \u001b[0m 23.66   \u001b[0m | \u001b[0m 0.02719 \u001b[0m | \u001b[0m 15.94   \u001b[0m |\n",
      "[200]\tcv_agg's auc: 0.838239 + 0.028371\n",
      "| \u001b[0m 5       \u001b[0m | \u001b[0m 0.8415  \u001b[0m | \u001b[0m 0.7281  \u001b[0m | \u001b[0m 0.5547  \u001b[0m | \u001b[0m 0.09395 \u001b[0m | \u001b[0m 1.853   \u001b[0m | \u001b[0m 4.448   \u001b[0m | \u001b[0m 32.76   \u001b[0m | \u001b[0m 0.09443 \u001b[0m | \u001b[0m 14.27   \u001b[0m |\n",
      "| \u001b[0m 6       \u001b[0m | \u001b[0m 0.807   \u001b[0m | \u001b[0m 0.7468  \u001b[0m | \u001b[0m 0.5866  \u001b[0m | \u001b[0m 0.07597 \u001b[0m | \u001b[0m 2.614   \u001b[0m | \u001b[0m 2.227   \u001b[0m | \u001b[0m 49.81   \u001b[0m | \u001b[0m 0.03626 \u001b[0m | \u001b[0m 18.44   \u001b[0m |\n",
      "[200]\tcv_agg's auc: 0.848249 + 0.0274065\n",
      "| \u001b[95m 7       \u001b[0m | \u001b[95m 0.8484  \u001b[0m | \u001b[95m 1.0     \u001b[0m | \u001b[95m 0.9     \u001b[0m | \u001b[95m 5.0     \u001b[0m | \u001b[95m 0.0     \u001b[0m | \u001b[95m 6.0     \u001b[0m | \u001b[95m 5.0     \u001b[0m | \u001b[95m 0.1     \u001b[0m | \u001b[95m 4.3     \u001b[0m |\n",
      "[200]\tcv_agg's auc: 0.85186 + 0.023262\n",
      "| \u001b[95m 8       \u001b[0m | \u001b[95m 0.8519  \u001b[0m | \u001b[95m 0.7995  \u001b[0m | \u001b[95m 0.8175  \u001b[0m | \u001b[95m 4.281   \u001b[0m | \u001b[95m 0.03449 \u001b[0m | \u001b[95m 5.966   \u001b[0m | \u001b[95m 5.548   \u001b[0m | \u001b[95m 0.06022 \u001b[0m | \u001b[95m 19.89   \u001b[0m |\n",
      "| \u001b[0m 9       \u001b[0m | \u001b[0m 0.8397  \u001b[0m | \u001b[0m 0.5073  \u001b[0m | \u001b[0m 0.3435  \u001b[0m | \u001b[0m 4.861   \u001b[0m | \u001b[0m 0.05294 \u001b[0m | \u001b[0m 5.756   \u001b[0m | \u001b[0m 30.53   \u001b[0m | \u001b[0m 0.007758\u001b[0m | \u001b[0m 2.342   \u001b[0m |\n",
      "[200]\tcv_agg's auc: 0.8602 + 0.0218588\n",
      "| \u001b[95m 10      \u001b[0m | \u001b[95m 0.8616  \u001b[0m | \u001b[95m 0.5687  \u001b[0m | \u001b[95m 0.5726  \u001b[0m | \u001b[95m 0.2836  \u001b[0m | \u001b[95m 0.2939  \u001b[0m | \u001b[95m 2.183   \u001b[0m | \u001b[95m 5.313   \u001b[0m | \u001b[95m 0.07524 \u001b[0m | \u001b[95m 11.41   \u001b[0m |\n",
      "| \u001b[0m 11      \u001b[0m | \u001b[0m 0.8458  \u001b[0m | \u001b[0m 0.7931  \u001b[0m | \u001b[0m 0.1966  \u001b[0m | \u001b[0m 4.259   \u001b[0m | \u001b[0m 2.739   \u001b[0m | \u001b[0m 2.078   \u001b[0m | \u001b[0m 5.006   \u001b[0m | \u001b[0m 0.07922 \u001b[0m | \u001b[0m 17.62   \u001b[0m |\n",
      "[200]\tcv_agg's auc: 0.850773 + 0.0240195\n",
      "| \u001b[0m 12      \u001b[0m | \u001b[0m 0.8508  \u001b[0m | \u001b[0m 0.9109  \u001b[0m | \u001b[0m 0.2043  \u001b[0m | \u001b[0m 0.1038  \u001b[0m | \u001b[0m 1.256   \u001b[0m | \u001b[0m 5.577   \u001b[0m | \u001b[0m 5.968   \u001b[0m | \u001b[0m 0.02101 \u001b[0m | \u001b[0m 2.144   \u001b[0m |\n",
      "[200]\tcv_agg's auc: 0.849903 + 0.0235676\n",
      "| \u001b[0m 13      \u001b[0m | \u001b[0m 0.8514  \u001b[0m | \u001b[0m 1.0     \u001b[0m | \u001b[0m 0.1     \u001b[0m | \u001b[0m 0.08725 \u001b[0m | \u001b[0m 2.303e-0\u001b[0m | \u001b[0m 2.0     \u001b[0m | \u001b[0m 5.0     \u001b[0m | \u001b[0m 0.001   \u001b[0m | \u001b[0m 7.365   \u001b[0m |\n",
      "[200]\tcv_agg's auc: 0.864482 + 0.0186302\n",
      "| \u001b[95m 14      \u001b[0m | \u001b[95m 0.8659  \u001b[0m | \u001b[95m 0.9944  \u001b[0m | \u001b[95m 0.784   \u001b[0m | \u001b[95m 0.02047 \u001b[0m | \u001b[95m 2.667   \u001b[0m | \u001b[95m 2.977   \u001b[0m | \u001b[95m 5.481   \u001b[0m | \u001b[95m 0.09989 \u001b[0m | \u001b[95m 19.8    \u001b[0m |\n",
      "| \u001b[0m 15      \u001b[0m | \u001b[0m 0.8382  \u001b[0m | \u001b[0m 0.5022  \u001b[0m | \u001b[0m 0.7091  \u001b[0m | \u001b[0m 0.3051  \u001b[0m | \u001b[0m 0.05169 \u001b[0m | \u001b[0m 5.853   \u001b[0m | \u001b[0m 48.54   \u001b[0m | \u001b[0m 0.04701 \u001b[0m | \u001b[0m 2.505   \u001b[0m |\n",
      "=========================================================================================================================\n",
      "<bayes_opt.bayesian_optimization.BayesianOptimization object at 0x000001CDE65D4AC8>\n"
     ]
    }
   ],
   "source": [
    "def bayes_parameter_opt_lgb(X, y, init_round=15, opt_round=25, n_folds=5, random_seed=6, n_estimators=100, learning_rate=0.2, output_process=False):\n",
    "    # prepare data\n",
    "    train_data = lgb.Dataset(data=X, label=y, categorical_feature = categorical_feats, free_raw_data=False)\n",
    "    #train_data = lgb.Dataset(data=X, label=y, free_raw_data=False)\n",
    "    # parameters\n",
    "    def lgb_eval(num_leaves, feature_fraction, bagging_fraction, max_depth, lambda_l1, lambda_l2, min_split_gain, min_child_weight):\n",
    "        params = {'application':'binary','num_iterations': n_estimators, 'learning_rate':learning_rate, 'early_stopping_round':100, 'metric':'auc'}\n",
    "        params[\"num_leaves\"] = int(round(num_leaves))\n",
    "        params['feature_fraction'] = max(min(feature_fraction, 1), 0)\n",
    "        params['bagging_fraction'] = max(min(bagging_fraction, 1), 0)\n",
    "        params['max_depth'] = int(round(max_depth))\n",
    "        params['lambda_l1'] = max(lambda_l1, 0)\n",
    "        params['lambda_l2'] = max(lambda_l2, 0)\n",
    "        params['min_split_gain'] = min_split_gain\n",
    "        params['min_child_weight'] = min_child_weight\n",
    "        cv_result = lgb.cv(params, train_data, nfold=n_folds, seed=random_seed, stratified=True, verbose_eval =200, metrics=['auc'])\n",
    "        return max(cv_result['auc-mean'])\n",
    "    # range \n",
    "    lgbBO = BayesianOptimization(lgb_eval, {'num_leaves': (2, 20),\n",
    "                                            'feature_fraction': (0.1, 0.9),\n",
    "                                            'bagging_fraction': (0.5, 1),\n",
    "                                            'max_depth': (2, 6),\n",
    "                                            'lambda_l1': (0, 5),\n",
    "                                            'lambda_l2': (0, 3),\n",
    "                                            'min_split_gain': (0.001, 0.1),\n",
    "                                            'min_child_weight': (5, 50)}, random_state=0)\n",
    "    # optimize\n",
    "    lgbBO.maximize(init_points=init_round, n_iter=opt_round)\n",
    "    \n",
    "    print(lgbBO)\n",
    "    \n",
    "    # output optimization process\n",
    "    if output_process==True: lgbBO.points_to_csv(\"bayes_opt_result.csv\")\n",
    "    \n",
    "    # return best parameters\n",
    "    return lgbBO.max['params']\n",
    "\n",
    "opt_params = bayes_parameter_opt_lgb(X, y, init_round=5, opt_round=10, n_folds=3, random_seed=6, n_estimators=200, learning_rate=0.2)"
   ]
  },
  {
   "cell_type": "markdown",
   "metadata": {},
   "source": [
    "最適化されたパラメータを出力"
   ]
  },
  {
   "cell_type": "code",
   "execution_count": 12,
   "metadata": {},
   "outputs": [
    {
     "name": "stdout",
     "output_type": "stream",
     "text": [
      "{'bagging_fraction': 0.9944354056604661, 'feature_fraction': 0.7839676996980822, 'lambda_l1': 0.020467527107711492, 'lambda_l2': 2.6665861809691007, 'max_depth': 2.977451979882435, 'min_child_weight': 5.4812949013676695, 'min_split_gain': 0.0998931785794044, 'num_leaves': 19.803000400983258}\n"
     ]
    }
   ],
   "source": [
    "print(opt_params)"
   ]
  }
 ],
 "metadata": {
  "kernelspec": {
   "display_name": "Python 3",
   "language": "python",
   "name": "python3"
  },
  "language_info": {
   "codemirror_mode": {
    "name": "ipython",
    "version": 3
   },
   "file_extension": ".py",
   "mimetype": "text/x-python",
   "name": "python",
   "nbconvert_exporter": "python",
   "pygments_lexer": "ipython3",
   "version": "3.6.5"
  }
 },
 "nbformat": 4,
 "nbformat_minor": 2
}
