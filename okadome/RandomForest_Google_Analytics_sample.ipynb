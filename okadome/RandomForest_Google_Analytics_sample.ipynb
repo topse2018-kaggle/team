{
  "cells": [
    {
      "metadata": {
        "_uuid": "3af86b40c0f58094da4baa75f7e0433c031daebf"
      },
      "cell_type": "markdown",
      "source": "以下の前処理は  \nhttps://www.kaggle.com/sudalairajkumar/simple-exploration-baseline-ga-customer-revenue  \nを参照"
    },
    {
      "metadata": {
        "trusted": true,
        "_uuid": "fd31d7cd6bef836e4021864753bc11707c807b75"
      },
      "cell_type": "code",
      "source": "import os\nimport json\nimport numpy as np\nimport pandas as pd\nfrom pandas.io.json import json_normalize\nimport matplotlib.pyplot as plt\nimport seaborn as sns\ncolor = sns.color_palette()\n\n%matplotlib inline\n\nfrom plotly import tools\nimport plotly.offline as py\npy.init_notebook_mode(connected=True)\nimport plotly.graph_objs as go\n\nfrom sklearn import model_selection, preprocessing, metrics\nimport lightgbm as lgb\n\npd.options.mode.chained_assignment = None\npd.options.display.max_columns = 999",
      "execution_count": null,
      "outputs": []
    },
    {
      "metadata": {
        "_uuid": "8f2839f25d086af736a60e9eeb907d3b93b6e0e5",
        "_cell_guid": "b1076dfc-b9ad-4769-8c92-a6c4dae69d19",
        "trusted": true
      },
      "cell_type": "code",
      "source": "# This Python 3 environment comes with many helpful analytics libraries installed\n# It is defined by the kaggle/python docker image: https://github.com/kaggle/docker-python\n# For example, here's several helpful packages to load in \n\nimport numpy as np # linear algebra\nimport pandas as pd # data processing, CSV file I/O (e.g. pd.read_csv)\n\n# Input data files are available in the \"../input/\" directory.\n# For example, running this (by clicking run or pressing Shift+Enter) will list the files in the input directory\n\nimport os\nprint(os.listdir(\"../input\"))\n\n# Any results you write to the current directory are saved as output.",
      "execution_count": null,
      "outputs": []
    },
    {
      "metadata": {
        "_cell_guid": "79c7e3d0-c299-4dcb-8224-4455121ee9b0",
        "_uuid": "d629ff2d2480ee46fbb7e2d37f6b5fab8052498a",
        "trusted": true
      },
      "cell_type": "code",
      "source": "import pandas as pd\nimport numpy as np\nimport json\nimport matplotlib.pyplot as plt\nimport datetime as datetime\nfrom datetime import timedelta, date\nimport seaborn as sns\nimport matplotlib.cm as CM\n%matplotlib inline",
      "execution_count": null,
      "outputs": []
    },
    {
      "metadata": {
        "_uuid": "2b72742d570e04dede58a87abac6ea43bcb10def"
      },
      "cell_type": "markdown",
      "source": "pandas dataframeにjson形式のデータが入っているため, 展開"
    },
    {
      "metadata": {
        "trusted": true,
        "_uuid": "7fa9ea20f75a333ca9d6ea855419021a44de05f4"
      },
      "cell_type": "code",
      "source": "def load_df(csv_path='../input/train.csv', nrows=None):\n    JSON_COLUMNS = ['device', 'geoNetwork', 'totals', 'trafficSource']\n    \n    df = pd.read_csv(csv_path, \n                     converters={column: json.loads for column in JSON_COLUMNS}, \n                     dtype={'fullVisitorId': 'str'}, # Important!!\n                     nrows=nrows)\n    \n    for column in JSON_COLUMNS:\n        column_as_df = json_normalize(df[column])\n        column_as_df.columns = [f\"{column}.{subcolumn}\" for subcolumn in column_as_df.columns]\n        df = df.drop(column, axis=1).merge(column_as_df, right_index=True, left_index=True)\n    print(f\"Loaded {os.path.basename(csv_path)}. Shape: {df.shape}\")\n    return df",
      "execution_count": null,
      "outputs": []
    },
    {
      "metadata": {
        "trusted": true,
        "_uuid": "7a7a1e56a0a4bcb88d66e76797b750d112c649aa"
      },
      "cell_type": "code",
      "source": "sub_sample = pd.read_csv(\"../input/sample_submission.csv\")",
      "execution_count": null,
      "outputs": []
    },
    {
      "metadata": {
        "trusted": true,
        "_uuid": "f98860c2413a5e64aa9cdbdfac913af3625dde7e"
      },
      "cell_type": "code",
      "source": "sub_sample.head()",
      "execution_count": null,
      "outputs": []
    },
    {
      "metadata": {
        "trusted": true,
        "_uuid": "396f0934db72766fa700eea8c173e49aeade523d"
      },
      "cell_type": "code",
      "source": "%%time\ntrain_df = load_df()\ntest_df = load_df(\"../input/test.csv\")",
      "execution_count": null,
      "outputs": []
    },
    {
      "metadata": {
        "trusted": true,
        "_uuid": "907399e2cfbdb33589a34e57bad994c7bffaf190"
      },
      "cell_type": "code",
      "source": "train_df.head()",
      "execution_count": null,
      "outputs": []
    },
    {
      "metadata": {
        "_uuid": "a081c507640a391bc48acfa84918956992d4e22d"
      },
      "cell_type": "markdown",
      "source": "すべての行に同じ値が入っているfeatureを抽出"
    },
    {
      "metadata": {
        "trusted": true,
        "scrolled": true,
        "_uuid": "7385cc35e9de1ea076869761117ae09fb40033ed"
      },
      "cell_type": "code",
      "source": "const_cols = [c for c in train_df.columns if train_df[c].nunique(dropna=False)==1 ]\nconst_cols",
      "execution_count": null,
      "outputs": []
    },
    {
      "metadata": {
        "_uuid": "3001f3cad2e7dea11f1d6ae4ab17a68875f20298"
      },
      "cell_type": "markdown",
      "source": "以下のfeatureを特徴量から削除 (セッションIDはデータに対してユニークなので特徴量としては利用できない)  \ncampaignCodeはtrainにしかなかったため削除  \n処理の都合でtrainとtestで異なる値を持つカテゴリカル変数は削除"
    },
    {
      "metadata": {
        "trusted": true,
        "_uuid": "349d60438a374e5800ea3da33657445bf7ec7074"
      },
      "cell_type": "code",
      "source": "cat_cols_all = [\"channelGrouping\", \"device.browser\", \n            \"device.deviceCategory\", \"device.operatingSystem\", \n            \"geoNetwork.city\", \"geoNetwork.continent\", \n            \"geoNetwork.country\", \"geoNetwork.metro\",\n            \"geoNetwork.networkDomain\", \"geoNetwork.region\", \n            \"geoNetwork.subContinent\", \"trafficSource.adContent\", \n            \"trafficSource.adwordsClickInfo.adNetworkType\", \n            \"trafficSource.adwordsClickInfo.gclId\", \n            \"trafficSource.adwordsClickInfo.page\", \n            \"trafficSource.adwordsClickInfo.slot\", \"trafficSource.campaign\",\n            \"trafficSource.keyword\", \"trafficSource.medium\", \n            \"trafficSource.referralPath\", \"trafficSource.source\",\n            'trafficSource.adwordsClickInfo.isVideoAd', 'trafficSource.isTrueDirect']",
      "execution_count": null,
      "outputs": []
    },
    {
      "metadata": {
        "trusted": true,
        "_uuid": "372c0e4c2ccb9a4f140d4590ff1e9e62cf4bfd66"
      },
      "cell_type": "code",
      "source": "add_drop = []\ncat_cols = []\nfor i in range(len(cat_cols_all)):\n    if len(set(train_df[cat_cols_all[i]].unique()).difference(set(test_df[cat_cols_all[i]].unique()))) != 0:\n        print(cat_cols_all[i], len(set(train_df[cat_cols_all[i]].unique()).difference(set(test_df[cat_cols_all[i]].unique()))), len(train_df[cat_cols_all[i]].unique()))\n        add_drop.append(cat_cols_all[i])\n    else:\n        cat_cols.append(cat_cols_all[i])",
      "execution_count": null,
      "outputs": []
    },
    {
      "metadata": {
        "trusted": true,
        "_uuid": "0953e1b0a783cc3a357352a355a169798b1e8aee"
      },
      "cell_type": "code",
      "source": "cols_to_drop = const_cols + ['sessionId'] + add_drop\n\ntrain_df = train_df.drop(cols_to_drop + [\"trafficSource.campaignCode\"], axis=1)\ntest_df = test_df.drop(cols_to_drop, axis=1)",
      "execution_count": null,
      "outputs": []
    },
    {
      "metadata": {
        "trusted": true,
        "scrolled": true,
        "_uuid": "85fd6dafc73faa77dd6790b164657a62f7be93d9"
      },
      "cell_type": "code",
      "source": "from sklearn.preprocessing import OneHotEncoder\n# Impute 0 for missing target values\ntrain_df[\"totals.transactionRevenue\"].fillna(0, inplace=True)\n#train_y = train_df[\"totals.transactionRevenue\"].values\ntrain_id = train_df[\"fullVisitorId\"].values\ntest_id = test_df[\"fullVisitorId\"].values\n\n\n# label encode the categorical variables and convert the numerical variables to float\n\"\"\"\ncat_cols = [\"channelGrouping\", \"device.browser\", \n            \"device.deviceCategory\", \"device.operatingSystem\", \n            \"geoNetwork.city\", \"geoNetwork.continent\", \n            \"geoNetwork.country\", \"geoNetwork.metro\",\n            \"geoNetwork.networkDomain\", \"geoNetwork.region\", \n            \"geoNetwork.subContinent\", \"trafficSource.adContent\", \n            \"trafficSource.adwordsClickInfo.adNetworkType\", \n            \"trafficSource.adwordsClickInfo.gclId\", \n            \"trafficSource.adwordsClickInfo.page\", \n            \"trafficSource.adwordsClickInfo.slot\", \"trafficSource.campaign\",\n            \"trafficSource.keyword\", \"trafficSource.medium\", \n            \"trafficSource.referralPath\", \"trafficSource.source\",\n            'trafficSource.adwordsClickInfo.isVideoAd', 'trafficSource.isTrueDirect']\n\"\"\"\nfor col in cat_cols:\n    print(col)\n    train_df[col].fillna(0, inplace=True)\n    test_df[col].fillna(0, inplace=True)\n    lbl = preprocessing.LabelEncoder()\n    lbl.fit(list(train_df[col].values.astype('str')) + list(test_df[col].values.astype('str')))\n    train_df[col] = lbl.transform(list(train_df[col].values.astype('str')))\n    test_df[col] = lbl.transform(list(test_df[col].values.astype('str')))\n\n\nnum_cols = [\"totals.hits\", \"totals.pageviews\", \"visitNumber\", \"visitStartTime\", 'totals.bounces',  'totals.newVisits']    \nfor col in num_cols:\n    train_df[col].fillna(0, inplace=True)\n    test_df[col].fillna(0, inplace=True)\n    train_df[col] = train_df[col].astype(float)\n    test_df[col] = test_df[col].astype(float)",
      "execution_count": null,
      "outputs": []
    },
    {
      "metadata": {
        "trusted": true,
        "_uuid": "77109717678cc0b5d067c3354f165c82e93dde62"
      },
      "cell_type": "code",
      "source": "index_train = train_df['date'] <= 20170531 #datetime.date(2017,5,31)\nindex_validation = train_df['date'] > 20170531 #datetime.date(2017,5,31)",
      "execution_count": null,
      "outputs": []
    },
    {
      "metadata": {
        "trusted": true,
        "_uuid": "6216b14512605fab7e53d0be6d393d52de1b93ce"
      },
      "cell_type": "code",
      "source": "from sklearn.preprocessing import OneHotEncoder\none_hot = OneHotEncoder(sparse = True)\none_hot = one_hot.fit(train_df[cat_cols])\nencoded_tr = one_hot.transform(train_df[cat_cols])\nencoded_te = one_hot.transform(test_df[cat_cols])",
      "execution_count": null,
      "outputs": []
    },
    {
      "metadata": {
        "trusted": true,
        "_uuid": "62f4b2f6267112fb9e1778a41e4a00af2ba23de4"
      },
      "cell_type": "code",
      "source": "train_df[\"totals.transactionRevenue\"] = train_df[\"totals.transactionRevenue\"].astype(float)",
      "execution_count": null,
      "outputs": []
    },
    {
      "metadata": {
        "trusted": true,
        "_uuid": "a111b57f222e0054953010fde8690c3fd7838353"
      },
      "cell_type": "code",
      "source": "data_tr = np.hstack([train_df[num_cols].values, encoded_tr.toarray()])\ndata_te = np.hstack([test_df[num_cols].values, encoded_te.toarray()])\ny_tr = np.log1p(train_df[\"totals.transactionRevenue\"].values)",
      "execution_count": null,
      "outputs": []
    },
    {
      "metadata": {
        "trusted": true,
        "_uuid": "0b5d61ac6032ceda87c8299135a2f378102d741d"
      },
      "cell_type": "code",
      "source": "from sklearn.ensemble import RandomForestRegressor\nparams = {\n    \"n_estimators\" : 500,\n    \"max_depth\": 10,\n    \"min_samples_split\": 10,\n    \"min_samples_leaf\": 10,\n    \"n_jobs\": -1,\n    #\"random_state \": 2018\n}\nmodel = RandomForestRegressor(**params, random_state = 2018, verbose=1)\nmodel = model.fit(data_tr[index_train], y_tr[index_train])\n",
      "execution_count": null,
      "outputs": []
    },
    {
      "metadata": {
        "trusted": true,
        "_uuid": "7ac9e85c6937d360a5eb7502cee85d42f8c48541"
      },
      "cell_type": "code",
      "source": "pred_val = model.predict(data_tr[index_validation])",
      "execution_count": null,
      "outputs": []
    },
    {
      "metadata": {
        "trusted": true,
        "_uuid": "2c2f5d954e933f5e6c6ccecf7be0bdc54f9bdd89"
      },
      "cell_type": "code",
      "source": "from sklearn import metrics\npred_val[pred_val<0] = 0\nval_pred_df = pd.DataFrame({\"fullVisitorId\":train_id[index_validation]})\nval_pred_df[\"transactionRevenue\"] = train_df[\"totals.transactionRevenue\"].values[index_validation]\nval_pred_df[\"PredictedRevenue\"] = np.expm1(pred_val)\n#print(np.sqrt(metrics.mean_squared_error(np.log1p(val_pred_df[\"transactionRevenue\"].values), np.log1p(val_pred_df[\"PredictedRevenue\"].values))))\nval_pred_df = val_pred_df.groupby(\"fullVisitorId\")[\"transactionRevenue\", \"PredictedRevenue\"].sum().reset_index()\nprint(np.sqrt(metrics.mean_squared_error(np.log1p(val_pred_df[\"transactionRevenue\"].values), np.log1p(val_pred_df[\"PredictedRevenue\"].values))))",
      "execution_count": null,
      "outputs": []
    },
    {
      "metadata": {
        "trusted": true,
        "_uuid": "28ea4ee55ceb6870692de8e58876652efc2bfecf"
      },
      "cell_type": "code",
      "source": "pred_test = model.predict(data_te)",
      "execution_count": null,
      "outputs": []
    },
    {
      "metadata": {
        "trusted": true,
        "_uuid": "397b0d79e30548887aa03d57bfbb2e4a762cba98"
      },
      "cell_type": "code",
      "source": "sub_df = pd.DataFrame({\"fullVisitorId\":test_id})\npred_test[pred_test<0] = 0\nsub_df[\"PredictedLogRevenue\"] = np.expm1(pred_test)\nsub_df = sub_df.groupby(\"fullVisitorId\")[\"PredictedLogRevenue\"].sum().reset_index()\nsub_df.columns = [\"fullVisitorId\", \"PredictedLogRevenue\"]\nsub_df[\"PredictedLogRevenue\"] = np.log1p(sub_df[\"PredictedLogRevenue\"])\nsub_df.to_csv(\"baseline_randomforest.csv\", index=False)",
      "execution_count": null,
      "outputs": []
    }
  ],
  "metadata": {
    "kernelspec": {
      "display_name": "Python 3",
      "language": "python",
      "name": "python3"
    },
    "language_info": {
      "name": "python",
      "version": "3.6.6",
      "mimetype": "text/x-python",
      "codemirror_mode": {
        "name": "ipython",
        "version": 3
      },
      "pygments_lexer": "ipython3",
      "nbconvert_exporter": "python",
      "file_extension": ".py"
    }
  },
  "nbformat": 4,
  "nbformat_minor": 1
}