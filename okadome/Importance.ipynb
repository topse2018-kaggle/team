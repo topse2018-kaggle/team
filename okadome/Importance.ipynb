{
 "cells": [
  {
   "cell_type": "markdown",
   "metadata": {},
   "source": [
    "# 学習済みモデルから説明変数の重要度を出力するサンプル"
   ]
  },
  {
   "cell_type": "code",
   "execution_count": 1,
   "metadata": {
    "_cell_guid": "6443d6db-6440-5d93-d37c-4fde4c428ca5",
    "_uuid": "e47a8b4f8d10606b00d831a5fcdc557e80671016"
   },
   "outputs": [
    {
     "name": "stdout",
     "output_type": "stream",
     "text": [
      "Populating the interactive namespace from numpy and matplotlib\n"
     ]
    }
   ],
   "source": [
    "\n",
    "# Import data and modules\n",
    "import pandas as pd\n",
    "import numpy as np\n",
    "from sklearn import datasets\n",
    "import warnings\n",
    "warnings.filterwarnings('ignore')\n",
    "%pylab inline\n",
    "pylab.rcParams['figure.figsize'] = (10, 6)\n",
    "\n",
    "iris = datasets.load_iris()\n"
   ]
  },
  {
   "cell_type": "code",
   "execution_count": 2,
   "metadata": {},
   "outputs": [
    {
     "name": "stdout",
     "output_type": "stream",
     "text": [
      "特徴量名： ['sepal length (cm)', 'sepal width (cm)', 'petal length (cm)', 'petal width (cm)']\n",
      "目的クラス名: ['setosa' 'versicolor' 'virginica']\n"
     ]
    }
   ],
   "source": [
    "print (\"特徴量名：\",iris.feature_names)\n",
    "print (\"目的クラス名:\", iris.target_names)"
   ]
  },
  {
   "cell_type": "code",
   "execution_count": 3,
   "metadata": {},
   "outputs": [],
   "source": [
    "iris_features = pd.DataFrame(iris.data, columns=iris.feature_names)\n",
    "iris_target = pd.DataFrame(iris.target, columns=[\"classes\"])"
   ]
  },
  {
   "cell_type": "markdown",
   "metadata": {
    "_cell_guid": "eeaf0cb8-4c35-7422-1e08-345a25ed309a",
    "_uuid": "bc3d174a9f8bd3fc5fa4806b3e8a2a6572895e99"
   },
   "source": [
    "## 多値分類後に特徴量の重要度を抽出"
   ]
  },
  {
   "cell_type": "code",
   "execution_count": 4,
   "metadata": {
    "_cell_guid": "8393598e-1344-0e22-43fc-fdda6c75c08a",
    "_uuid": "be73572aca82bb3d509e60bc56c34b9cd7436a8f"
   },
   "outputs": [
    {
     "name": "stdout",
     "output_type": "stream",
     "text": [
      "訓練データ数 105, テストデータ数 45\n",
      "\n"
     ]
    }
   ],
   "source": [
    "from sklearn.model_selection import train_test_split\n",
    "\n",
    "X_train, X_test, y_train, y_test = train_test_split(iris_features, iris_target, test_size=.3, random_state=0)\n",
    "\n",
    "print('訓練データ数 {}, テストデータ数 {}'.format(\n",
    "X_train.shape[0], X_test.shape[0]))\n",
    "print()"
   ]
  },
  {
   "cell_type": "markdown",
   "metadata": {
    "_cell_guid": "34a39b41-96cc-b560-c966-ddab1e67f65c",
    "_uuid": "5d2e4eda72e21b03a1756fa0cad84903512eb25a"
   },
   "source": [
    "StandardScalerにより平均0, 分散1の値に変換"
   ]
  },
  {
   "cell_type": "code",
   "execution_count": 5,
   "metadata": {
    "_cell_guid": "5867b347-4875-1e21-4313-633873a56915",
    "_uuid": "05d35578a858b3b10bc314bc7d7a8132fbca1c95"
   },
   "outputs": [
    {
     "name": "stdout",
     "output_type": "stream",
     "text": [
      "特徴量の変換を確認, 分類タスクのため目的変数は正規化しない:\n",
      "\n",
      "   sepal length (cm)  sepal width (cm)  petal length (cm)  petal width (cm)\n",
      "0          -1.023664         -2.378463          -0.182950         -0.291459\n",
      "1           0.695175         -0.101903           0.930661          0.737219\n",
      "2           0.924353          0.581065           1.042022          1.637313\n",
      "3           0.122229         -1.923151           0.652258          0.351465\n",
      "4           0.924353         -1.240183           1.097702          0.737219\n"
     ]
    }
   ],
   "source": [
    "from sklearn.preprocessing import StandardScaler\n",
    "\n",
    "sc = StandardScaler()\n",
    "\n",
    "sc.fit(X_train)\n",
    "\n",
    "X_train_std = sc.transform(X_train)\n",
    "X_test_std = sc.transform(X_test)\n",
    "\n",
    "print('特徴量の変換を確認, 分類タスクのため目的変数は正規化しない:\\n')\n",
    "print(pd.DataFrame(X_train_std, columns=iris_features.columns).head())"
   ]
  },
  {
   "cell_type": "markdown",
   "metadata": {
    "_cell_guid": "dc68363a-7def-d618-e190-0ddd26324bf2",
    "_uuid": "a5b98ca38affb19ffedda9102a70021f7c49075c"
   },
   "source": [
    "多値分類が可能な手法, LogisticRegressionとRandomForestClassifierを適用"
   ]
  },
  {
   "cell_type": "code",
   "execution_count": 6,
   "metadata": {},
   "outputs": [],
   "source": [
    "from sklearn.linear_model import LogisticRegression\n",
    "from sklearn.ensemble import RandomForestClassifier"
   ]
  },
  {
   "cell_type": "code",
   "execution_count": 7,
   "metadata": {},
   "outputs": [
    {
     "name": "stdout",
     "output_type": "stream",
     "text": [
      "ベストモデル: RandomForestClassifier(bootstrap=True, class_weight=None, criterion='gini',\n",
      "            max_depth=None, max_features='auto', max_leaf_nodes=None,\n",
      "            min_impurity_decrease=0.0, min_impurity_split=None,\n",
      "            min_samples_leaf=1, min_samples_split=5,\n",
      "            min_weight_fraction_leaf=0.0, n_estimators=25, n_jobs=1,\n",
      "            oob_score=False, random_state=None, verbose=0,\n",
      "            warm_start=False)\n"
     ]
    }
   ],
   "source": [
    "from sklearn.model_selection import GridSearchCV\n",
    "params = {'n_estimators':list(range(5,90,10))+[100] ,'min_samples_split': list(range(2,11))}\n",
    "grid = GridSearchCV(RandomForestClassifier(), params, cv=5)\n",
    "search_result = grid.fit(X_train_std, y_train)\n",
    "best = search_result.best_estimator_\n",
    "print (\"ベストモデル:\", best)"
   ]
  },
  {
   "cell_type": "code",
   "execution_count": 8,
   "metadata": {},
   "outputs": [
    {
     "name": "stdout",
     "output_type": "stream",
     "text": [
      "Random Forestでの精度: 0.9777777777777777\n"
     ]
    }
   ],
   "source": [
    "from sklearn import metrics\n",
    "\n",
    "# テストデータを予測\n",
    "y_pred = best.predict(X_test_std)\n",
    "\n",
    "# \"精度\"の計算\n",
    "print(\"Random Forestでの精度:\", metrics.accuracy_score(y_test,y_pred))"
   ]
  },
  {
   "cell_type": "code",
   "execution_count": 9,
   "metadata": {},
   "outputs": [
    {
     "name": "stdout",
     "output_type": "stream",
     "text": [
      "Random Forestの特徴量:\n",
      "    sepal length (cm)  sepal width (cm)  petal length (cm)  petal width (cm)\n",
      "0           0.088016          0.011666           0.417301          0.483017\n"
     ]
    }
   ],
   "source": [
    "random_forest_importance=pd.DataFrame(columns=iris_features.columns)\n",
    "random_forest_importance.loc[0] = best.feature_importances_\n",
    "print ('Random Forestの特徴量:\\n', random_forest_importance)"
   ]
  },
  {
   "cell_type": "markdown",
   "metadata": {},
   "source": [
    "LogisticRegressionでの特徴量抽出"
   ]
  },
  {
   "cell_type": "code",
   "execution_count": 10,
   "metadata": {
    "scrolled": true
   },
   "outputs": [
    {
     "name": "stdout",
     "output_type": "stream",
     "text": [
      "ベストモデル: LogisticRegression(C=10, class_weight=None, dual=False, fit_intercept=True,\n",
      "          intercept_scaling=1, max_iter=100, multi_class='ovr', n_jobs=1,\n",
      "          penalty='l2', random_state=None, solver='liblinear', tol=0.0001,\n",
      "          verbose=0, warm_start=False)\n"
     ]
    }
   ],
   "source": [
    "from sklearn.model_selection import GridSearchCV\n",
    "params_lg = {'C':[10**i for i in range(-3, 2)]}\n",
    "grid_lg = GridSearchCV(LogisticRegression(penalty='l2'), params_lg, cv=5)\n",
    "search_result_lg = grid_lg.fit(X_train_std, y_train)\n",
    "best_lg = search_result_lg.best_estimator_\n",
    "print (\"ベストモデル:\", best_lg)"
   ]
  },
  {
   "cell_type": "code",
   "execution_count": 11,
   "metadata": {},
   "outputs": [
    {
     "name": "stdout",
     "output_type": "stream",
     "text": [
      "LogisticRegressionでの精度: 0.9555555555555556\n"
     ]
    }
   ],
   "source": [
    "from sklearn import metrics\n",
    "\n",
    "# テストデータを予測\n",
    "y_pred = best_lg.predict(X_test_std)\n",
    "#y_pred_p = best_lg.predict_proba(X_test_std)\n",
    "\n",
    "# \"精度\"の計算\n",
    "print(\"LogisticRegressionでの精度:\", metrics.accuracy_score(y_test,y_pred))"
   ]
  },
  {
   "cell_type": "code",
   "execution_count": 12,
   "metadata": {},
   "outputs": [
    {
     "name": "stdout",
     "output_type": "stream",
     "text": [
      "Logistic Regressionの特徴量(One vs Rest):\n",
      "    sepal length (cm)  sepal width (cm)  petal length (cm)  petal width (cm)\n",
      "1          -1.010750          1.850233          -2.685118         -2.382632\n",
      "2          -0.143393         -1.129107           1.866484         -1.787549\n",
      "3          -0.802724         -0.741070           4.914449          4.536193\n"
     ]
    }
   ],
   "source": [
    "lg_importance=pd.DataFrame(columns=iris_features.columns)\n",
    "for i in range(len(best_lg.coef_)):\n",
    "    lg_importance.loc[i+1] = best_lg.coef_[i]\n",
    "print ('Logistic Regressionの特徴量(One vs Rest):\\n', lg_importance)"
   ]
  },
  {
   "cell_type": "code",
   "execution_count": null,
   "metadata": {},
   "outputs": [],
   "source": []
  }
 ],
 "metadata": {
  "_change_revision": 0,
  "_is_fork": false,
  "kernelspec": {
   "display_name": "Python 3",
   "language": "python",
   "name": "python3"
  },
  "language_info": {
   "codemirror_mode": {
    "name": "ipython",
    "version": 3
   },
   "file_extension": ".py",
   "mimetype": "text/x-python",
   "name": "python",
   "nbconvert_exporter": "python",
   "pygments_lexer": "ipython3",
   "version": "3.7.0"
  }
 },
 "nbformat": 4,
 "nbformat_minor": 1
}
