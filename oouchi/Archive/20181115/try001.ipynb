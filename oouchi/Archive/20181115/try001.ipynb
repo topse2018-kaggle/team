{
 "cells": [
  {
   "cell_type": "code",
   "execution_count": null,
   "metadata": {},
   "outputs": [],
   "source": [
    "# https://noumenon-th.net/programming/2016/04/27/logisticregression/\n",
    "import pandas as pd\n",
    "import numpy as np\n",
    "from pandas import DataFrame\n",
    "from sklearn.linear_model import LogisticRegression\n",
    "from sklearn.metrics import accuracy_score\n",
    "%matplotlib inline"
   ]
  },
  {
   "cell_type": "code",
   "execution_count": null,
   "metadata": {},
   "outputs": [],
   "source": [
    "train_df = pd.read_csv('./input/train.csv')\n",
    "test_df = pd.read_csv('./input/test.csv')"
   ]
  },
  {
   "cell_type": "code",
   "execution_count": null,
   "metadata": {},
   "outputs": [],
   "source": [
    "train_df.describe()"
   ]
  },
  {
   "cell_type": "code",
   "execution_count": null,
   "metadata": {},
   "outputs": [],
   "source": [
    "test_df.describe()"
   ]
  },
  {
   "cell_type": "code",
   "execution_count": null,
   "metadata": {},
   "outputs": [],
   "source": [
    "train_df.head()"
   ]
  },
  {
   "cell_type": "code",
   "execution_count": null,
   "metadata": {},
   "outputs": [],
   "source": [
    "test_df.head()"
   ]
  },
  {
   "cell_type": "code",
   "execution_count": null,
   "metadata": {},
   "outputs": [],
   "source": [
    "#利用しない変数は削除\n",
    "train_df = train_df.drop(['Name','SibSp','Parch','Ticket','Fare','Cabin','Embarked'],axis=1)\n",
    "test_df = test_df.drop(['Name','SibSp','Parch','Ticket','Fare','Cabin','Embarked'],axis=1)"
   ]
  },
  {
   "cell_type": "code",
   "execution_count": null,
   "metadata": {},
   "outputs": [],
   "source": [
    "train_df.head()"
   ]
  },
  {
   "cell_type": "code",
   "execution_count": null,
   "metadata": {},
   "outputs": [],
   "source": [
    "test_df.head()"
   ]
  },
  {
   "cell_type": "markdown",
   "metadata": {},
   "source": [
    "## 欠損値の補完"
   ]
  },
  {
   "cell_type": "code",
   "execution_count": null,
   "metadata": {},
   "outputs": [],
   "source": [
    "#年齢の欠損値を男女の平均年齢で補間\n",
    "age_train_mean = train_df.groupby('Sex').Age.mean()\n",
    " \n",
    "def fage(x):\n",
    "    if x.Sex == 'male':\n",
    "        return round(age_train_mean['male'])\n",
    "    if x.Sex == 'female':\n",
    "        return round(age_train_mean['female'])\n",
    "\n",
    "train_df.Age.fillna(train_df[train_df.Age.isnull()].apply(fage,axis=1),inplace=True)\n"
   ]
  },
  {
   "cell_type": "code",
   "execution_count": null,
   "metadata": {},
   "outputs": [],
   "source": [
    "age_test_mean = test_df.groupby('Sex').Age.mean()\n",
    " \n",
    "def fage(x):\n",
    "    if x.Sex == 'male':\n",
    "        return round(age_test_mean['male'])\n",
    "    if x.Sex == 'female':\n",
    "        return round(age_test_mean['female'])\n",
    "\n",
    "test_df.Age.fillna(test_df[test_df.Age.isnull()].apply(fage,axis=1),inplace=True)"
   ]
  },
  {
   "cell_type": "markdown",
   "metadata": {},
   "source": [
    "## ダミー変数"
   ]
  },
  {
   "cell_type": "code",
   "execution_count": null,
   "metadata": {},
   "outputs": [],
   "source": [
    "#クロス集計\n",
    "sex_ct = pd.crosstab(train_df['Sex'], train_df['Survived'])\n",
    "sex_ct"
   ]
  },
  {
   "cell_type": "code",
   "execution_count": null,
   "metadata": {},
   "outputs": [],
   "source": [
    "#Femaleカラムを追加し、Sex要素のmale/femaleを1/0に変換して、要素として追加する\n",
    "train_df['Female'] = train_df['Sex'].map( {'male': 0, 'female': 1} ).astype(int)\n",
    "test_df['Female'] = test_df['Sex'].map( {'male': 0, 'female': 1} ).astype(int)\n",
    " \n",
    "train_df.head()"
   ]
  },
  {
   "cell_type": "code",
   "execution_count": null,
   "metadata": {},
   "outputs": [],
   "source": [
    "#クロス集計\n",
    "pclass_ct = pd.crosstab(train_df['Pclass'], train_df['Survived'])\n",
    "pclass_ct"
   ]
  },
  {
   "cell_type": "code",
   "execution_count": null,
   "metadata": {},
   "outputs": [],
   "source": [
    "#Pclassをダミー変数で分ける\n",
    "pclass_train_df  = pd.get_dummies(train_df['Pclass'],prefix='Class')\n",
    "pclass_test_df  = pd.get_dummies(test_df['Pclass'],prefix='Class')\n",
    " \n",
    "pclass_train_df.head()"
   ]
  },
  {
   "cell_type": "code",
   "execution_count": null,
   "metadata": {},
   "outputs": [],
   "source": [
    "#Class_3を削除\n",
    "pclass_train_df = pclass_train_df.drop(['Class_3'], axis=1)\n",
    "pclass_test_df = pclass_test_df.drop(['Class_3'], axis=1)\n",
    " \n",
    "#Class_1,Class_2カラムを追加\n",
    "train_df = train_df.join(pclass_train_df)\n",
    "test_df = test_df.join(pclass_test_df)"
   ]
  },
  {
   "cell_type": "code",
   "execution_count": null,
   "metadata": {},
   "outputs": [],
   "source": [
    "#訓練用\n",
    "train_df.head()"
   ]
  },
  {
   "cell_type": "code",
   "execution_count": null,
   "metadata": {},
   "outputs": [],
   "source": [
    "#テスト用\n",
    "test_df.head()"
   ]
  },
  {
   "cell_type": "markdown",
   "metadata": {},
   "source": [
    "## モデル生成と予測"
   ]
  },
  {
   "cell_type": "code",
   "execution_count": null,
   "metadata": {},
   "outputs": [],
   "source": [
    "X = train_df.drop(['PassengerId','Survived','Pclass','Sex'],axis=1)\n",
    "y = train_df.Survived\n",
    " \n",
    "#モデルの生成\n",
    "clf = LogisticRegression()\n",
    " \n",
    "#学習\n",
    "clf.fit(X, y)"
   ]
  },
  {
   "cell_type": "code",
   "execution_count": null,
   "metadata": {},
   "outputs": [],
   "source": [
    "#学習したモデルの精度\n",
    "clf.score(X,y)\n",
    "\n",
    "#モデルに伴う生存率の予測値\n",
    "#predict_y = clf.predict(X)\n",
    " \n",
    "#実際の値と予測値の比率\n",
    "#accuracy_score(y, predict_y)"
   ]
  },
  {
   "cell_type": "code",
   "execution_count": null,
   "metadata": {},
   "outputs": [],
   "source": [
    "#変数名とその係数を格納するデータフレーム\n",
    "coeff_df = DataFrame([X.columns, clf.coef_[0]]).T\n",
    "coeff_df"
   ]
  },
  {
   "cell_type": "code",
   "execution_count": null,
   "metadata": {},
   "outputs": [],
   "source": [
    "#テストデータから生存者を予測\n",
    "X1 = test_df.drop(['PassengerId','Pclass','Sex'],axis=1)\n",
    "test_predict = clf.predict(X1)"
   ]
  },
  {
   "cell_type": "code",
   "execution_count": null,
   "metadata": {},
   "outputs": [],
   "source": [
    "submission = pd.DataFrame({'PassengerId': test_df['PassengerId'], 'Survived':np.array(test_predict)})\n",
    "submission.to_csv('submission.csv', index=False)\n",
    "submission.head()"
   ]
  }
 ],
 "metadata": {
  "kernelspec": {
   "display_name": "Python 3",
   "language": "python",
   "name": "python3"
  },
  "language_info": {
   "codemirror_mode": {
    "name": "ipython",
    "version": 3
   },
   "file_extension": ".py",
   "mimetype": "text/x-python",
   "name": "python",
   "nbconvert_exporter": "python",
   "pygments_lexer": "ipython3",
   "version": "3.6.7"
  }
 },
 "nbformat": 4,
 "nbformat_minor": 2
}
