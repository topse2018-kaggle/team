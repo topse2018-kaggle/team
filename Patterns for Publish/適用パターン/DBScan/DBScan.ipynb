{
 "cells": [
  {
   "cell_type": "code",
   "execution_count": null,
   "metadata": {},
   "outputs": [],
   "source": [
    "# This Python 3 environment comes with many helpful analytics libraries installed\n",
    "# It is defined by the kaggle/python docker image: https://github.com/kaggle/docker-python\n",
    "# For example, here's several helpful packages to load in \n",
    "\n",
    "import numpy as np # linear algebra\n",
    "import pandas as pd # data processing, CSV file I/O (e.g. pd.read_csv)\n",
    "import matplotlib.pyplot as plt\n",
    "import seaborn as sns\n",
    "plt.style.use('ggplot')\n",
    "\n",
    "# Input data files are available in the \"../input/\" directory.\n",
    "# For example, running this (by clicking run or pressing Shift+Enter) will list the files in the input directory\n",
    "\n",
    "from subprocess import check_output\n",
    "print(check_output([\"ls\", \"../input\"]).decode(\"utf8\"))\n",
    "\n",
    "# Any results you write to the current directory are saved as output."
   ]
  },
  {
   "cell_type": "code",
   "execution_count": null,
   "metadata": {},
   "outputs": [],
   "source": [
    "df = pd.read_csv('../input/flavors_of_cacao.csv',na_values='\\xa0')"
   ]
  },
  {
   "cell_type": "code",
   "execution_count": null,
   "metadata": {},
   "outputs": [],
   "source": [
    "b = pd.DataFrame(df.isnull().sum(), columns= ['Number of missing values'])\n",
    "b"
   ]
  },
  {
   "cell_type": "code",
   "execution_count": null,
   "metadata": {},
   "outputs": [],
   "source": [
    "df.head()"
   ]
  },
  {
   "cell_type": "code",
   "execution_count": null,
   "metadata": {},
   "outputs": [],
   "source": [
    "plt.figure(figsize=(8,6))\n",
    "sns.distplot(df['Rating'],bins=5,color='brown')"
   ]
  },
  {
   "cell_type": "code",
   "execution_count": null,
   "metadata": {},
   "outputs": [],
   "source": [
    "df['Cocoa % as num'] = df['Cocoa\\nPercent'].apply(lambda x: x.split('%')[0])\n",
    "df['Cocoa % as num'] = df['Cocoa % as num'].astype(float)"
   ]
  },
  {
   "cell_type": "code",
   "execution_count": null,
   "metadata": {},
   "outputs": [],
   "source": [
    "plt.figure(figsize=(12,6))\n",
    "sns.distplot(df['Cocoa % as num'],bins=20,color='Brown')"
   ]
  },
  {
   "cell_type": "code",
   "execution_count": null,
   "metadata": {},
   "outputs": [],
   "source": [
    "df['Review\\nDate'] = df['Review\\nDate'].astype(str)\n",
    "\n",
    "plt.figure(figsize=(12,6))\n",
    "sns.boxplot(x='Review\\nDate', y='Rating',data=df)"
   ]
  },
  {
   "cell_type": "code",
   "execution_count": null,
   "metadata": {},
   "outputs": [],
   "source": [
    "fig, (ax1, ax2, ax3) = plt.subplots(nrows=3,figsize=(12,15))\n",
    "\n",
    "\n",
    "a = df.groupby(['Company\\nLocation'])['Rating'].mean()\n",
    "a = a.sort_values(ascending=False)\n",
    "\n",
    "b = df.groupby(['Company\\nLocation'])['Rating'].median()\n",
    "b = b.sort_values(ascending=False)\n",
    "\n",
    "a = pd.DataFrame(a)\n",
    "b = pd.DataFrame(b)\n",
    "\n",
    "Ratings_by_location = a.join(b, how='left',lsuffix='_mean', rsuffix='_median')\n",
    "Ratings_by_location['Mean-Median'] = Ratings_by_location['Rating_mean']-Ratings_by_location['Rating_median']\n",
    "Rating_difference = sns.barplot(x=Ratings_by_location.index,y=Ratings_by_location['Mean-Median'], ax = ax3)\n",
    "Rating_difference.set_xticklabels(labels = Ratings_by_location.index, rotation =90)\n",
    "Rating_difference.set_ylabel(\"Mean-Median of ratings\")\n",
    "\n",
    "\n",
    "#plt.figure(figsize=(12,6))\n",
    "ratings_mean = sns.barplot(x=Ratings_by_location.index,y=Ratings_by_location['Rating_mean'],ax=ax1)\n",
    "ratings_mean.set_xticklabels(labels = Ratings_by_location.index, rotation =90)\n",
    "ratings_mean.set_ylabel(\"Mean of Ratings\")\n",
    "\n",
    "\n",
    "#plt.figure(figsize=(12,6))\n",
    "ratings_median = sns.barplot(x=Ratings_by_location.index,y=Ratings_by_location['Rating_median'], ax = ax2)\n",
    "ratings_median.set_xticklabels(labels = Ratings_by_location.index, rotation =90)\n",
    "ratings_median.set_ylabel(\"Median of ratings\")\n",
    "\n",
    "plt.tight_layout()"
   ]
  },
  {
   "cell_type": "code",
   "execution_count": null,
   "metadata": {},
   "outputs": [],
   "source": [
    "plt.figure(figsize=(12,6))\n",
    "\n",
    "c = df.groupby(['Company\\nLocation'])['Cocoa % as num'].mean()\n",
    "c = c.sort_values(ascending=False)\n",
    "\n",
    "ratings = sns.barplot(x=c.index,y=c)\n",
    "ratings.set_xticklabels(labels = c.index, rotation =90)"
   ]
  },
  {
   "cell_type": "code",
   "execution_count": null,
   "metadata": {},
   "outputs": [],
   "source": [
    "fig, (ax1, ax2) = plt.subplots(ncols=2,figsize=(12,15))\n",
    "\n",
    "e = df.groupby(['Bean\\nType'])['Rating'].mean()\n",
    "e = e.sort_values(ascending=False)\n",
    "Rating_beanType = sns.barplot(y=e.index,x=e,ax = ax1)\n",
    "\n",
    "\n",
    "f = df.groupby(['Broad Bean\\nOrigin'])['Rating'].mean()\n",
    "f = f.sort_values(ascending=False)\n",
    "Rating_broadbean = sns.barplot(y=f.index,x=f,ax = ax2)\n",
    "\n",
    "plt.tight_layout()"
   ]
  },
  {
   "cell_type": "code",
   "execution_count": null,
   "metadata": {},
   "outputs": [],
   "source": [
    "df1 = df[['Cocoa % as num','Rating','Review\\nDate']]"
   ]
  },
  {
   "cell_type": "code",
   "execution_count": null,
   "metadata": {},
   "outputs": [],
   "source": [
    "#non_numerical_columns = ['Review\\nDate','Bean\\nType', 'Broad Bean\\nOrigin','Company\\nLocation']\n",
    "\n",
    "non_numerical_columns = ['Review\\nDate']\n",
    "\n",
    "for i in non_numerical_columns:\n",
    "    x1 = pd.get_dummies(df1[i])\n",
    "    df1 = df1.join(x1,lsuffix='_l',rsuffix='_r')\n",
    "    df1.drop(i,axis=1,inplace=True)"
   ]
  },
  {
   "cell_type": "code",
   "execution_count": null,
   "metadata": {},
   "outputs": [],
   "source": [
    "from sklearn.cluster import DBSCAN\n",
    "from sklearn import metrics\n",
    "from sklearn.preprocessing import StandardScaler"
   ]
  },
  {
   "cell_type": "code",
   "execution_count": null,
   "metadata": {},
   "outputs": [],
   "source": [
    "df_num = StandardScaler().fit_transform(df1)"
   ]
  },
  {
   "cell_type": "code",
   "execution_count": null,
   "metadata": {},
   "outputs": [],
   "source": [
    "A = []\n",
    "B = []\n",
    "C = []\n",
    "\n",
    "for i in np.linspace(0.1,5,50):\n",
    "    db = DBSCAN(eps=i, min_samples=10).fit(df_num)\n",
    "\n",
    "    core_samples_mask = np.zeros_like(db.labels_, dtype=bool)\n",
    "    core_samples_mask[db.core_sample_indices_] = True\n",
    "    labels = db.labels_\n",
    "    n_clusters_ = len(set(labels)) - (1 if -1 in labels else 0)\n",
    "    \n",
    "    sum = 0\n",
    "    for t in labels:\n",
    "        if t == -1: \n",
    "            sum = sum + 1\n",
    "    C.append(sum)\n",
    "            \n",
    "    \n",
    "    \n",
    "    A.append(i)\n",
    "    B.append(int(n_clusters_))"
   ]
  },
  {
   "cell_type": "code",
   "execution_count": null,
   "metadata": {},
   "outputs": [],
   "source": [
    "results = pd.DataFrame([A,B,C]).T\n",
    "results.columns = ['distance','Number of clusters','Number of outliers']\n",
    "results.plot(x='distance',y='Number of clusters',figsize=(10,6))"
   ]
  },
  {
   "cell_type": "code",
   "execution_count": null,
   "metadata": {},
   "outputs": [],
   "source": [
    "db = DBSCAN(eps=1, min_samples=10).fit(df_num)\n",
    "core_samples_mask = np.zeros_like(db.labels_, dtype=bool)\n",
    "core_samples_mask[db.core_sample_indices_] = True\n",
    "labels = db.labels_\n",
    "n_clusters_ = len(set(labels)) - (1 if -1 in labels else 0)\n",
    "n_clusters_"
   ]
  },
  {
   "cell_type": "code",
   "execution_count": null,
   "metadata": {},
   "outputs": [],
   "source": [
    "df = df.join(pd.DataFrame(labels))\n",
    "df = df.rename(columns={0:'Cluster'})\n",
    "\n",
    "df['Cluster'].value_counts()"
   ]
  },
  {
   "cell_type": "code",
   "execution_count": null,
   "metadata": {},
   "outputs": [],
   "source": [
    "df_clusters = df.groupby('Cluster')['Rating','Cocoa % as num']\n",
    "df_clusters.describe()"
   ]
  },
  {
   "cell_type": "code",
   "execution_count": null,
   "metadata": {},
   "outputs": [],
   "source": [
    "fig, (ax1,ax2) = plt.subplots(nrows = 2,figsize=(12,12))\n",
    "\n",
    "plt.figure(figsize=(12,8))\n",
    "plot1 = sns.boxplot(x=df['Cluster'],y=df['Rating'],data=df, ax = ax1)\n",
    "\n",
    "\n",
    "plt.figure(figsize=(12,8))\n",
    "plot2 = sns.boxplot(x=df['Cluster'],y=df['Cocoa % as num'],data=df, ax= ax2)"
   ]
  },
  {
   "cell_type": "code",
   "execution_count": null,
   "metadata": {},
   "outputs": [],
   "source": [
    "plt.figure(figsize=(16,12))\n",
    "X = df_num\n",
    "\n",
    "unique_labels = set(labels)\n",
    "colors = [plt.cm.Spectral(each)\n",
    "          for each in np.linspace(0, 1, len(unique_labels))]\n",
    "for k, col in zip(unique_labels, colors):\n",
    "    if k == -1:\n",
    "        # Black used for noise.\n",
    "        col = [0, 0, 0, 1]\n",
    "\n",
    "    class_member_mask = (labels == k)\n",
    "\n",
    "    xy = X[class_member_mask & core_samples_mask]\n",
    "    plt.plot(xy[:, 0], xy[:, 1], 'o', markerfacecolor=tuple(col),\n",
    "             markeredgecolor='k', markersize=14)\n",
    "\n",
    "    xy = X[class_member_mask & ~core_samples_mask]\n",
    "    plt.plot(xy[:, 0], xy[:, 1], 'o', markerfacecolor=tuple(col),\n",
    "             markeredgecolor='k', markersize=6)\n",
    "\n",
    "plt.title('Estimated number of clusters: %d' % n_clusters_)\n",
    "plt.show()"
   ]
  },
  {
   "cell_type": "code",
   "execution_count": null,
   "metadata": {},
   "outputs": [],
   "source": []
  }
 ],
 "metadata": {
  "kernelspec": {
   "display_name": "Python 3",
   "language": "python",
   "name": "python3"
  },
  "language_info": {
   "codemirror_mode": {
    "name": "ipython",
    "version": 3
   },
   "file_extension": ".py",
   "mimetype": "text/x-python",
   "name": "python",
   "nbconvert_exporter": "python",
   "pygments_lexer": "ipython3",
   "version": "3.7.1"
  }
 },
 "nbformat": 4,
 "nbformat_minor": 2
}
